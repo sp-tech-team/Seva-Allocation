{
 "cells": [
  {
   "cell_type": "code",
   "execution_count": 1,
   "metadata": {},
   "outputs": [],
   "source": [
    "import pandas as pd\n",
    "from openai import OpenAI\n",
    "from participant_data import create_participant_db_df\n",
    "from dotenv import load_dotenv\n",
    "load_dotenv()\n",
    "client = OpenAI()"
   ]
  },
  {
   "cell_type": "code",
   "execution_count": null,
   "metadata": {},
   "outputs": [],
   "source": [
    "\n",
    "task_entities_df = pd.read_csv('data/entities_Work_Experience-Tasks.csv')\n",
    "\n",
    "task_entities_df = task_entities_df.head(20)\n",
    "\n",
    "\n"
   ]
  },
  {
   "cell_type": "code",
   "execution_count": 11,
   "metadata": {},
   "outputs": [],
   "source": [
    "\n",
    "user_prompt = \"\"\"\n",
    "You are an AI normalizing or standardizing text of job tasks extracted from\n",
    "an applicants experience descriptions. Consider if applicants made wordy or uncommon descriptions of their\n",
    "tasks and reduce or simplify them to a more concise phrase that can be used in structured data.\n",
    "\n",
    "Please try to reduce each entity into maximum 4 words. Entities that are not common descriptions\n",
    "please completely change them to a synonymous task that is commonly understood in the work world.\n",
    "You should remove any super specific words for the applicants company or specific situation.\n",
    "\n",
    "Entity to normalize:\n",
    "{extracted_text}\n",
    "\"\"\"\n"
   ]
  },
  {
   "cell_type": "code",
   "execution_count": 12,
   "metadata": {},
   "outputs": [
    {
     "name": "stdout",
     "output_type": "stream",
     "text": [
      "Extracted Text:  3d modelling\n",
      "Normalized Text:  3D modeling\n",
      "\n",
      "Extracted Text:  2d drawings\n",
      "Normalized Text:  2D design\n",
      "\n",
      "Extracted Text:  client meetings\n",
      "Normalized Text:  client consultations\n",
      "\n",
      "Extracted Text:  site visits\n",
      "Normalized Text:  field inspections\n",
      "\n",
      "Extracted Text:  making presentations\n",
      "Normalized Text:  creating presentations\n",
      "\n",
      "Extracted Text:  2D drawings check\n",
      "Normalized Text:  Review 2D drawings\n",
      "\n",
      "Extracted Text:  Preparing & monitoring L3 Baseline Schedule\n",
      "Normalized Text:  Schedule preparation and monitoring\n",
      "\n",
      "Extracted Text:  Progress monitoring & control\n",
      "Normalized Text:  Performance tracking\n",
      "\n",
      "Extracted Text:  Preparing of Progress reports & lookahead schedules\n",
      "Normalized Text:  Progress reporting and scheduling\n",
      "\n",
      "Extracted Text:  Coordination with the Engineering Team\n",
      "Normalized Text:  Team collaboration with engineers\n",
      "\n",
      "Extracted Text:  Coordination with the sub-contractors & vendors for the delivery & execution of work at site\n",
      "Normalized Text:  Vendor and subcontractor coordination\n",
      "\n",
      "Extracted Text:  Ordering & Delivery of Structural Steel as per the scope\n",
      "Normalized Text:  Structural Steel Ordering and Delivery\n",
      "\n",
      "Extracted Text:  Performing Technical Bid Evaluation for the identified subcontractors\n",
      "Normalized Text:  Technical bid evaluation\n",
      "\n",
      "Extracted Text:  Reconciliation of construction materials\n",
      "Normalized Text:  Construction materials reconciliation\n",
      "\n",
      "Extracted Text:  Tracking of overall procurement status, from dispatch to billing at site\n",
      "Normalized Text:  Procurement status monitoring\n",
      "\n",
      "Extracted Text:  Raising Claims\n",
      "Normalized Text:  Submitting Claims\n",
      "\n",
      "Extracted Text:  Preparing of L3 Baseline Schedule\n",
      "Normalized Text:  Creating L3 Schedule\n",
      "\n",
      "Extracted Text:  Preparing & Monitoring Weekly & Monthly Progress Reports\n",
      "Normalized Text:  Generating Progress Reports\n",
      "\n",
      "Extracted Text:  To run the department of Orthopedic surgery\n",
      "Normalized Text:  Manage orthopedic surgery department\n",
      "\n",
      "Extracted Text:  Clinical and academic post\n",
      "Normalized Text:  Clinical and academic role\n",
      "\n"
     ]
    }
   ],
   "source": [
    "\n",
    "for _, row in task_entities_df.iterrows():\n",
    "    messages = [\n",
    "            {\n",
    "                \"role\": \"system\",\n",
    "                \"content\": \"You transform extracted entities into more normalized/ standardize words or phrases of the entity, no extra text.\"\n",
    "            },\n",
    "            {\n",
    "                \"role\": \"user\",\n",
    "                \"content\": user_prompt.format(extracted_text=row['extracted_text'])\n",
    "            }\n",
    "        ]\n",
    "\n",
    "    response = client.chat.completions.create(\n",
    "                    model='gpt-4o-mini',\n",
    "                    messages=messages,\n",
    "                    temperature=0\n",
    "                )\n",
    "    gpt_reply = response.choices[0].message.content.strip()\n",
    "    print(\"Extracted Text: \", row['extracted_text'])\n",
    "    print(\"Normalized Text: \", gpt_reply)\n",
    "    print()"
   ]
  },
  {
   "cell_type": "code",
   "execution_count": null,
   "metadata": {},
   "outputs": [],
   "source": [
    "\"\"\"\n",
    "Next steps\n",
    "\n",
    "maybe group some of these entities that are close in vector space/ cosine space\n",
    "by some threshold and ask llm to make clusters.\n",
    "\"\"\""
   ]
  },
  {
   "cell_type": "code",
   "execution_count": 5,
   "metadata": {},
   "outputs": [],
   "source": [
    "# Load data\n",
    "target_columns = ['SP ID', 'Work Experience/Company', 'Work Experience/Designation',\n",
    "'Work Experience/Tasks', 'Work Experience/Industry',\n",
    "'Education/Qualifications', 'Education/Specialization',\n",
    "'Any Additional Skills', 'Computer Skills', 'Skills',\n",
    "'Languages', 'Gender', 'Age', 'Work Experience/From Date', 'Work Experience/To Date']\n",
    "participant_info_raw_df = pd.read_csv('../../data/input_participant_info_raw.csv')\n",
    "participant_db_df = create_participant_db_df(participant_info_raw_df, target_columns)\n",
    "\n",
    "extraction_columns = [\n",
    "    \"Work Experience/Designation\",\n",
    "    \"Work Experience/Tasks\",\n",
    "    \"Any Additional Skills\",\n",
    "    ]\n",
    "participant_db_df = participant_db_df[['SP ID'] + extraction_columns]\n",
    "type_list_cols = [\n",
    "    \"Work Experience/Designation\",\n",
    "    \"Work Experience/Tasks\",\n",
    "    ]\n",
    "for col in type_list_cols:\n",
    "    participant_db_df[col] = participant_db_df[col].apply(str)\n",
    "participant_db_df = participant_db_df.head(10)"
   ]
  },
  {
   "cell_type": "code",
   "execution_count": 7,
   "metadata": {},
   "outputs": [],
   "source": [
    "user_prompt = \"\"\"\n",
    "Take the given text describing an applicant's tasks they have done at their job and provide a comma separated list\n",
    "of the skills these tasks imply the applicant has. Do not return anything other than the list of skills separated\n",
    "by commas. Here is the text of applicant tasks...\n",
    "{tasks}\n",
    "\"\"\""
   ]
  },
  {
   "cell_type": "code",
   "execution_count": 9,
   "metadata": {},
   "outputs": [
    {
     "name": "stdout",
     "output_type": "stream",
     "text": [
      "['3d modelling, 2d drawings, client meetings and site visits', '3d modelling, making presentations , 2D drawings check']\n",
      "3D modelling, 2D drawings, client meetings, site visits, making presentations, drawing checks\n",
      "['1) Preparing & monitoring L3 Baseline Schedule (2) Progress monitoring & control (3) Preparing of Progress reports & lookahead schedules. (4) Coordination with the Engineering Team.', '1) Coordination with the sub-contractors & vendors for the delivery & execution of work at site. (2) Ordering & Delivery of Structural Steel as per the scope. (3) Performing Technical Bid Evaluation for the identified subcontractors. (4) Reconciliation of construction materials. (5) Traking of overall procurement status, from dispatch to billing at site. (6) Raising Claims (7) Preparing of L3 Baseline Schedule. (8) Preparing & Monitroing Weekly & Monthly Progress Reports']\n",
      "Project management, scheduling, progress monitoring, report preparation, coordination, vendor management, procurement, technical evaluation, material reconciliation, claims management, tracking, communication skills\n",
      "['To run the department of Orthopedic surgery', 'Clinical and academic post']\n",
      "department management, clinical expertise, academic knowledge\n",
      "['BSNL broadband, banking leased circuit, all FTTH networking', 'Counselling for admission and placement']\n",
      "networking, counselling, customer service, problem-solving, technical support\n",
      "['Building data & analytics products & platforms (logistics & procurement) for Aditya Birla businesses like UTCL, Chemicals', 'Building App for teacher engagement & dashboard for district Education officers, IT solutioning and budgeting', 'Evaluating strategic (add-ons) opportunities and program managing digital corporate digital strategy', 'Designing, developing & testing features for android apps, front-end & backend development using PHP frameworks for enabling payments', 'Design, develop and test front-end and back-end features for an e-commerce website selling cosmetics online and beauty salons listing']\n",
      "data analysis, product development, logistics, procurement, app development, dashboard creation, IT solutioning, budgeting, strategic evaluation, program management, digital strategy, feature design, feature development, testing, front-end development, back-end development, PHP frameworks, payment systems, e-commerce, cosmetics industry knowledge, beauty industry knowledge\n",
      "['to operate our app & to give sales pitching to clients']\n",
      "app operation, sales pitching, client communication\n",
      "['I operate single handedly a small branch post office in a remote village of West Bengal. I manage accounts, do sales and marketing of postal products and help villagers make better financial decisions for themselves and their kids as a whole. I also help them by imparting in mobile banking facilities and create awareness against scams and financial frauds.']\n",
      "branch management, account management, sales and marketing, financial advising, mobile banking, fraud awareness, community engagement\n"
     ]
    }
   ],
   "source": [
    "\n",
    "for _, row in participant_db_df.iterrows():\n",
    "    tasks_str = str(row[\"Work Experience/Tasks\"])\n",
    "    if tasks_str == \"['NA']\":\n",
    "        continue\n",
    "    print(tasks_str)\n",
    "    messages = [\n",
    "            {\n",
    "                \"role\": \"system\",\n",
    "                \"content\": \"You extract and infer skills from a corpus of text on work tasks of a job applicant, no extra text.\"\n",
    "            },\n",
    "            {\n",
    "                \"role\": \"user\",\n",
    "                \"content\": user_prompt.format(tasks=tasks_str)\n",
    "            }\n",
    "        ]\n",
    "\n",
    "    response = client.chat.completions.create(\n",
    "                    model='gpt-4o-mini',\n",
    "                    messages=messages,\n",
    "                    temperature=0\n",
    "                )\n",
    "    gpt_reply = response.choices[0].message.content.strip()\n",
    "=    print(gpt_reply)"
   ]
  }
 ],
 "metadata": {
  "kernelspec": {
   "display_name": "Python 3",
   "language": "python",
   "name": "python3"
  },
  "language_info": {
   "codemirror_mode": {
    "name": "ipython",
    "version": 3
   },
   "file_extension": ".py",
   "mimetype": "text/x-python",
   "name": "python",
   "nbconvert_exporter": "python",
   "pygments_lexer": "ipython3",
   "version": "3.9.12"
  }
 },
 "nbformat": 4,
 "nbformat_minor": 2
}
