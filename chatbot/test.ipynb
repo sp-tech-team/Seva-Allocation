{
 "cells": [
  {
   "cell_type": "code",
   "execution_count": 16,
   "metadata": {},
   "outputs": [],
   "source": [
    "# from langchain_experimental.sql import SQLDatabaseChain\n",
    "from langchain_community.utilities.sql_database import SQLDatabase\n",
    "from sqlalchemy import create_engine, Table, Column, Integer, String, MetaData\n",
    "from sqlalchemy.sql import text"
   ]
  },
  {
   "cell_type": "code",
   "execution_count": 25,
   "metadata": {},
   "outputs": [],
   "source": [
    "\n",
    "\n",
    "engine = create_engine('sqlite:///participants.db')\n",
    "metadata = MetaData()\n",
    "\n",
    "# Define the participants table\n",
    "participants_table = Table(\n",
    "    'participants', metadata,\n",
    "    Column('sp_id', Integer, primary_key=True),\n",
    "    Column('age', Integer),\n",
    "    Column('gender', String),\n",
    "    Column('years_of_experience', Integer),\n",
    "    Column('skills', String),\n",
    "    Column('education_specialization', String),\n",
    "    Column('past_jobs', String)\n",
    ")\n",
    "\n",
    "# Create the table\n",
    "metadata.create_all(engine)\n",
    "def populate_fake_data():\n",
    "    fake_data = [\n",
    "        {\"sp_id\": 1, \"age\": 35, \"gender\": \"Male\", \"years_of_experience\": 10, \"skills\": \"Backend Development, Python, APIs\", \"education_specialization\": \"Computer Science\", \"past_jobs\": \"Software Engineer at XYZ\"},\n",
    "        {\"sp_id\": 2, \"age\": 28, \"gender\": \"Female\", \"years_of_experience\": 5, \"skills\": \"Frontend Development, React, CSS\", \"education_specialization\": \"Information Technology\", \"past_jobs\": \"UI Developer at ABC\"},\n",
    "        {\"sp_id\": 3, \"age\": 40, \"gender\": \"Male\", \"years_of_experience\": 15, \"skills\": \"DevOps, CI/CD, Kubernetes\", \"education_specialization\": \"Systems Engineering\", \"past_jobs\": \"DevOps Engineer at DEF\"},\n",
    "        {\"sp_id\": 4, \"age\": 32, \"gender\": \"Female\", \"years_of_experience\": 8, \"skills\": \"Data Science, Machine Learning, R\", \"education_specialization\": \"Data Science\", \"past_jobs\": \"Data Scientist at GHI\"},\n",
    "        {\"sp_id\": 5, \"age\": 45, \"gender\": \"Male\", \"years_of_experience\": 20, \"skills\": \"Database Management, SQL, Oracle\", \"education_specialization\": \"Database Administration\", \"past_jobs\": \"DBA at JKL\"},\n",
    "        {\"sp_id\": 6, \"age\": 29, \"gender\": \"Female\", \"years_of_experience\": 6, \"skills\": \"Mobile Development, Swift, Android\", \"education_specialization\": \"Mobile Computing\", \"past_jobs\": \"Mobile Developer at MNO\"},\n",
    "        {\"sp_id\": 7, \"age\": 38, \"gender\": \"Male\", \"years_of_experience\": 12, \"skills\": \"Cybersecurity, Ethical Hacking, Firewalls\", \"education_specialization\": \"Cybersecurity\", \"past_jobs\": \"Security Analyst at PQR\"},\n",
    "        {\"sp_id\": 8, \"age\": 27, \"gender\": \"Female\", \"years_of_experience\": 4, \"skills\": \"Cloud Computing, AWS, Azure\", \"education_specialization\": \"Cloud Technology\", \"past_jobs\": \"Cloud Engineer at STU\"},\n",
    "        {\"sp_id\": 9, \"age\": 36, \"gender\": \"Male\", \"years_of_experience\": 14, \"skills\": \"AI Research, NLP, TensorFlow\", \"education_specialization\": \"Artificial Intelligence\", \"past_jobs\": \"AI Specialist at VWX\"},\n",
    "        {\"sp_id\": 10, \"age\": 33, \"gender\": \"Female\", \"years_of_experience\": 9, \"skills\": \"Project Management, Agile, Scrum\", \"education_specialization\": \"Business Administration\", \"past_jobs\": \"Project Manager at YZA\"}\n",
    "    ]\n",
    "\n",
    "    with engine.begin() as conn:\n",
    "        conn.execute(participants_table.delete())\n",
    "        conn.execute(participants_table.insert(), fake_data)\n",
    "\n",
    "populate_fake_data()\n",
    "\n",
    "# sql_db = SQLDatabase(engine)\n",
    "\n",
    "sql_query = \"\"\"SELECT\n",
    "        CASE\n",
    "            WHEN age BETWEEN 0 AND 9 THEN '0-9'\n",
    "            WHEN age BETWEEN 10 AND 19 THEN '10-19'\n",
    "            WHEN age BETWEEN 20 AND 29 THEN '20-29'\n",
    "            WHEN age BETWEEN 30 AND 39 THEN '30-39'\n",
    "            WHEN age BETWEEN 40 AND 49 THEN '40-49'\n",
    "            WHEN age BETWEEN 50 AND 59 THEN '50-59'\n",
    "            WHEN age BETWEEN 60 AND 69 THEN '60-69'\n",
    "            WHEN age BETWEEN 70 AND 79 THEN '70-79'\n",
    "            WHEN age BETWEEN 80 AND 89 THEN '80-89'\n",
    "            WHEN age BETWEEN 90 AND 99 THEN '90-99'\n",
    "        END AS age_bucket,\n",
    "        COUNT(*) AS count\n",
    "    FROM participants\n",
    "    GROUP BY age_bucket\n",
    "    ORDER BY age_bucket ASC\n",
    "\"\"\"\n",
    "sql_query_input = text(sql_query)\n",
    "with engine.begin() as conn:\n",
    "    results = conn.execute(sql_query_input).fetchall()"
   ]
  },
  {
   "cell_type": "code",
   "execution_count": null,
   "metadata": {},
   "outputs": [],
   "source": []
  },
  {
   "cell_type": "code",
   "execution_count": 26,
   "metadata": {},
   "outputs": [
    {
     "data": {
      "text/plain": [
       "[('20-29', 3), ('30-39', 5), ('40-49', 2)]"
      ]
     },
     "execution_count": 26,
     "metadata": {},
     "output_type": "execute_result"
    }
   ],
   "source": [
    "results"
   ]
  },
  {
   "cell_type": "code",
   "execution_count": null,
   "metadata": {},
   "outputs": [],
   "source": []
  },
  {
   "cell_type": "code",
   "execution_count": null,
   "metadata": {},
   "outputs": [],
   "source": []
  },
  {
   "cell_type": "code",
   "execution_count": null,
   "metadata": {},
   "outputs": [],
   "source": []
  },
  {
   "cell_type": "code",
   "execution_count": null,
   "metadata": {},
   "outputs": [],
   "source": []
  },
  {
   "cell_type": "code",
   "execution_count": null,
   "metadata": {},
   "outputs": [],
   "source": []
  },
  {
   "cell_type": "code",
   "execution_count": null,
   "metadata": {},
   "outputs": [],
   "source": []
  },
  {
   "cell_type": "code",
   "execution_count": null,
   "metadata": {},
   "outputs": [],
   "source": []
  },
  {
   "cell_type": "code",
   "execution_count": null,
   "metadata": {},
   "outputs": [],
   "source": [
    "def execute_sql_query_stuctured(query):\n",
    "    if not query:\n",
    "        return []\n",
    "\n",
    "    prompt = f\"\"\"\n",
    "    Generate a valid SQL query based on the following database schema and user request:\n",
    "\n",
    "    Schema:\n",
    "    {json.dumps({\n",
    "        \"participants\": {\n",
    "            \"columns\": [\n",
    "                \"sp_id\", \"age\", \"gender\", \"years_of_experience\"\n",
    "            ]\n",
    "        }\n",
    "    }, indent=2)}\n",
    "\n",
    "    User Request: {query}\n",
    "\n",
    "    SQL Query:\n",
    "    \"\"\"\n",
    "    \n",
    "    llm = OpenAI()\n",
    "    response = llm(prompt)\n",
    "    sql_query = response.strip()\n",
    "    print(f\"Generated SQL Query: \\n{sql_query}\")\n",
    "    try:\n",
    "        with engine.begin() as conn:\n",
    "            results = conn.execute(text(sql_query)).fetchall()\n",
    "        return [dict(r._mapping) for r in results]\n",
    "    except Exception as e:\n",
    "        print(f\"Error executing SQL Query: {e}\")\n",
    "        return []\n",
    "\n",
    "def chatbot_structured(query):\n",
    "    sql_results = execute_sql_query_stuctured(query)\n",
    "    llm = OpenAI()\n",
    "    print(f\"SQL Results: \\n{sql_results}\\n\")\n",
    "    prompt = f\"\"\"\n",
    "    Based on the user's query: \"{query}\", answer the query by using the results generated by\n",
    "    a SQL query on the participants data that is preparing the data for you to answer the users question.\n",
    "\n",
    "    SQL Results to use to answer the user's query:\n",
    "    {json.dumps(sql_results, default=str)}\n",
    "    \"\"\"\n",
    "    response = llm(prompt)\n",
    "    return response"
   ]
  }
 ],
 "metadata": {
  "kernelspec": {
   "display_name": "Python 3",
   "language": "python",
   "name": "python3"
  },
  "language_info": {
   "codemirror_mode": {
    "name": "ipython",
    "version": 3
   },
   "file_extension": ".py",
   "mimetype": "text/x-python",
   "name": "python",
   "nbconvert_exporter": "python",
   "pygments_lexer": "ipython3",
   "version": "3.9.12"
  }
 },
 "nbformat": 4,
 "nbformat_minor": 2
}
