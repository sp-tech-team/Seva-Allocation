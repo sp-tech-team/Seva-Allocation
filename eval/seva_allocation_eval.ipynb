{
 "cells": [
  {
   "cell_type": "code",
   "execution_count": 76,
   "metadata": {},
   "outputs": [],
   "source": [
    "import pandas as pd"
   ]
  },
  {
   "cell_type": "code",
   "execution_count": 77,
   "metadata": {},
   "outputs": [],
   "source": [
    "predictions_path = \"predictions_data_PROCESSED.xlsx\"\n",
    "assignments_path = \"In-Program Ptcpts - VRFIDs.xlsx\"\n",
    "\n",
    "\n",
    "predictions_df = pd.read_excel(predictions_path) #, nrows= 1500)\n",
    "assignments_df = pd.read_excel(assignments_path)"
   ]
  },
  {
   "cell_type": "code",
   "execution_count": 90,
   "metadata": {},
   "outputs": [],
   "source": [
    "\n",
    "\n",
    "def get_dept_score_by_top_k_preds(predictions_df, assignments_df, k):\n",
    "    #top_scores_idx = predictions_df.groupby(['SP_ID'])['Skill Score'].idxmax()\n",
    "    #top_preds_df = predictions_df.loc[top_scores_idx]  \n",
    "    top_k_preds_df = predictions_df.groupby('SP_ID').apply(lambda x: x.nlargest(k, 'Skill Score')).reset_index(drop=True)\n",
    "    pred_assigns_join_df = pd.merge(top_k_preds_df, assignments_df, left_on='SP_ID', right_on='SP ID', how='inner')\n",
    "    pred_assigns_truth_df = pred_assigns_join_df.copy() \n",
    "    pred_assigns_truth_k_grouped_df = pred_assigns_truth_df.groupby(['SP_ID', 'Seva Dept']).agg({'Department': list, 'Skill Score': list}).reset_index()\n",
    "    pred_assigns_truth_k_grouped_df['InTopK'] = pred_assigns_truth_k_grouped_df.apply(lambda row: row['Seva Dept'] in row['Department'], axis=1)\n",
    "    accuracy = pred_assigns_truth_k_grouped_df['InTopK'].mean()\n",
    "    return pred_assigns_truth_k_grouped_df, accuracy\n",
    "\n"
   ]
  },
  {
   "cell_type": "code",
   "execution_count": 94,
   "metadata": {},
   "outputs": [
    {
     "name": "stderr",
     "output_type": "stream",
     "text": [
      "/var/folders/j6/588zcvgj0sdc9tfsz36sdcp40000gn/T/ipykernel_20708/1093141449.py:4: DeprecationWarning: DataFrameGroupBy.apply operated on the grouping columns. This behavior is deprecated, and in a future version of pandas the grouping columns will be excluded from the operation. Either pass `include_groups=False` to exclude the groupings or explicitly select the grouping columns after groupby to silence this warning.\n",
      "  top_k_preds_df = predictions_df.groupby('SP_ID').apply(lambda x: x.nlargest(k, 'Skill Score')).reset_index(drop=True)\n",
      "/var/folders/j6/588zcvgj0sdc9tfsz36sdcp40000gn/T/ipykernel_20708/1093141449.py:4: DeprecationWarning: DataFrameGroupBy.apply operated on the grouping columns. This behavior is deprecated, and in a future version of pandas the grouping columns will be excluded from the operation. Either pass `include_groups=False` to exclude the groupings or explicitly select the grouping columns after groupby to silence this warning.\n",
      "  top_k_preds_df = predictions_df.groupby('SP_ID').apply(lambda x: x.nlargest(k, 'Skill Score')).reset_index(drop=True)\n",
      "/var/folders/j6/588zcvgj0sdc9tfsz36sdcp40000gn/T/ipykernel_20708/1093141449.py:4: DeprecationWarning: DataFrameGroupBy.apply operated on the grouping columns. This behavior is deprecated, and in a future version of pandas the grouping columns will be excluded from the operation. Either pass `include_groups=False` to exclude the groupings or explicitly select the grouping columns after groupby to silence this warning.\n",
      "  top_k_preds_df = predictions_df.groupby('SP_ID').apply(lambda x: x.nlargest(k, 'Skill Score')).reset_index(drop=True)\n",
      "/var/folders/j6/588zcvgj0sdc9tfsz36sdcp40000gn/T/ipykernel_20708/1093141449.py:4: DeprecationWarning: DataFrameGroupBy.apply operated on the grouping columns. This behavior is deprecated, and in a future version of pandas the grouping columns will be excluded from the operation. Either pass `include_groups=False` to exclude the groupings or explicitly select the grouping columns after groupby to silence this warning.\n",
      "  top_k_preds_df = predictions_df.groupby('SP_ID').apply(lambda x: x.nlargest(k, 'Skill Score')).reset_index(drop=True)\n",
      "/var/folders/j6/588zcvgj0sdc9tfsz36sdcp40000gn/T/ipykernel_20708/1093141449.py:4: DeprecationWarning: DataFrameGroupBy.apply operated on the grouping columns. This behavior is deprecated, and in a future version of pandas the grouping columns will be excluded from the operation. Either pass `include_groups=False` to exclude the groupings or explicitly select the grouping columns after groupby to silence this warning.\n",
      "  top_k_preds_df = predictions_df.groupby('SP_ID').apply(lambda x: x.nlargest(k, 'Skill Score')).reset_index(drop=True)\n"
     ]
    },
    {
     "data": {
      "text/html": [
       "<div>\n",
       "<style scoped>\n",
       "    .dataframe tbody tr th:only-of-type {\n",
       "        vertical-align: middle;\n",
       "    }\n",
       "\n",
       "    .dataframe tbody tr th {\n",
       "        vertical-align: top;\n",
       "    }\n",
       "\n",
       "    .dataframe thead th {\n",
       "        text-align: right;\n",
       "    }\n",
       "</style>\n",
       "<table border=\"1\" class=\"dataframe\">\n",
       "  <thead>\n",
       "    <tr style=\"text-align: right;\">\n",
       "      <th></th>\n",
       "      <th>k</th>\n",
       "      <th>accuracy</th>\n",
       "    </tr>\n",
       "  </thead>\n",
       "  <tbody>\n",
       "    <tr>\n",
       "      <th>0</th>\n",
       "      <td>10</td>\n",
       "      <td>0.452454</td>\n",
       "    </tr>\n",
       "    <tr>\n",
       "      <th>1</th>\n",
       "      <td>20</td>\n",
       "      <td>0.558282</td>\n",
       "    </tr>\n",
       "    <tr>\n",
       "      <th>2</th>\n",
       "      <td>30</td>\n",
       "      <td>0.607362</td>\n",
       "    </tr>\n",
       "    <tr>\n",
       "      <th>3</th>\n",
       "      <td>40</td>\n",
       "      <td>0.636503</td>\n",
       "    </tr>\n",
       "    <tr>\n",
       "      <th>4</th>\n",
       "      <td>50</td>\n",
       "      <td>0.667178</td>\n",
       "    </tr>\n",
       "  </tbody>\n",
       "</table>\n",
       "</div>"
      ],
      "text/plain": [
       "    k  accuracy\n",
       "0  10  0.452454\n",
       "1  20  0.558282\n",
       "2  30  0.607362\n",
       "3  40  0.636503\n",
       "4  50  0.667178"
      ]
     },
     "execution_count": 94,
     "metadata": {},
     "output_type": "execute_result"
    }
   ],
   "source": [
    "dfs = []\n",
    "scores = []\n",
    "for k in [10, 20, 30, 40, 50]:\n",
    "    df, acc = get_dept_score_by_top_k_preds(predictions_df, assignments_df, k)\n",
    "    dfs.append(df)\n",
    "    scores.append((k, acc))\n",
    "    # print(f\"Accuracy for top {k} predictions: {acc}\")\n",
    "\n",
    "pd.DataFrame(scores, columns=['k', 'accuracy'])"
   ]
  },
  {
   "cell_type": "code",
   "execution_count": null,
   "metadata": {},
   "outputs": [],
   "source": []
  },
  {
   "cell_type": "code",
   "execution_count": null,
   "metadata": {},
   "outputs": [],
   "source": []
  },
  {
   "cell_type": "code",
   "execution_count": 82,
   "metadata": {},
   "outputs": [],
   "source": []
  },
  {
   "cell_type": "code",
   "execution_count": null,
   "metadata": {},
   "outputs": [],
   "source": []
  },
  {
   "cell_type": "code",
   "execution_count": 84,
   "metadata": {},
   "outputs": [],
   "source": [
    "\n"
   ]
  },
  {
   "cell_type": "code",
   "execution_count": null,
   "metadata": {},
   "outputs": [],
   "source": []
  },
  {
   "cell_type": "code",
   "execution_count": null,
   "metadata": {},
   "outputs": [],
   "source": []
  },
  {
   "cell_type": "code",
   "execution_count": null,
   "metadata": {},
   "outputs": [],
   "source": []
  },
  {
   "cell_type": "code",
   "execution_count": null,
   "metadata": {},
   "outputs": [],
   "source": []
  }
 ],
 "metadata": {
  "kernelspec": {
   "display_name": "Python 3",
   "language": "python",
   "name": "python3"
  },
  "language_info": {
   "codemirror_mode": {
    "name": "ipython",
    "version": 3
   },
   "file_extension": ".py",
   "mimetype": "text/x-python",
   "name": "python",
   "nbconvert_exporter": "python",
   "pygments_lexer": "ipython3",
   "version": "3.9.12"
  }
 },
 "nbformat": 4,
 "nbformat_minor": 2
}
