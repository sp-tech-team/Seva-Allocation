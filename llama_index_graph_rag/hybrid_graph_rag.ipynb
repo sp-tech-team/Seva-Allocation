{
 "cells": [
  {
   "cell_type": "code",
   "execution_count": null,
   "metadata": {
    "colab": {
     "base_uri": "https://localhost:8080/"
    },
    "id": "7glMMmQ-Lpsz",
    "outputId": "055ee43a-6173-420f-a635-0349fe169b5c"
   },
   "outputs": [],
   "source": [
    "## Install neccessary libraries\n",
    "\n",
    "# !pip install -U langchain-community\n",
    "# !pip install langchain-openai\n",
    "# !pip install llama-index\n",
    "# !pip install llama-index-embeddings-langchain\n",
    "# !pip install pyvis"
   ]
  },
  {
   "cell_type": "code",
   "execution_count": 3,
   "metadata": {
    "id": "bUBHtqgyPAdU"
   },
   "outputs": [],
   "source": [
    "import nest_asyncio\n",
    "nest_asyncio.apply()\n",
    "from dotenv import load_dotenv\n",
    "# Load environment variables from a .env file\n",
    "load_dotenv()\n",
    "from IPython.display import Markdown, display\n",
    "from pyvis.network import Network\n",
    "\n",
    "import os\n",
    "import pandas as pd\n",
    "\n",
    "import openai\n",
    "from langchain_openai import OpenAIEmbeddings\n",
    "\n",
    "from llama_index.core import SimpleDirectoryReader\n",
    "from llama_index.llms.openai import OpenAI\n",
    "from llama_index.core import PropertyGraphIndex, VectorStoreIndex\n",
    "from llama_index.core import Document\n",
    "from llama_index.core.indices.property_graph import DynamicLLMPathExtractor\n",
    "from llama_index.core import ServiceContext, GPTVectorStoreIndex\n",
    "from langchain.chat_models import ChatOpenAI\n",
    "from llama_index.core import get_response_synthesizer\n",
    "from llama_index.core.query_engine import RetrieverQueryEngine\n",
    "from llama_index.core import QueryBundle\n",
    "from llama_index.core.schema import NodeWithScore\n",
    "from llama_index.core.retrievers import (\n",
    "    BaseRetriever,\n",
    "    VectorIndexRetriever,\n",
    ")\n",
    "from llama_index.core import Settings\n",
    "\n",
    "\n",
    "from typing import List\n",
    "\n",
    "\n",
    "# Set the OpenAI API key environment variable\n",
    "# os.environ[\"OPENAI_API_KEY\"] = \"\" #Enter your Key\n",
    "os.environ[\"KMP_DUPLICATE_LIB_OK\"]=\"TRUE\""
   ]
  },
  {
   "cell_type": "code",
   "execution_count": null,
   "metadata": {},
   "outputs": [],
   "source": [
    "\n",
    "class GraphRagRetriever(BaseRetriever):\n",
    "    \"\"\"Custom retriever that performs both Vector search and Knowledge Graph search\"\"\"\n",
    "\n",
    "    def __init__(\n",
    "        self,\n",
    "        vector_retriever,\n",
    "        pg_retriever,\n",
    "        mode: str = \"OR\",\n",
    "    ) -> None:\n",
    "        \"\"\"Init params.\"\"\"\n",
    "\n",
    "        self._vector_retriever = vector_retriever\n",
    "        self._pg_retriever = pg_retriever\n",
    "        if mode not in (\"AND\", \"OR\"):\n",
    "            raise ValueError(\"Invalid mode.\")\n",
    "        self._mode = mode\n",
    "        super().__init__()\n",
    "\n",
    "    def _retrieve(self, query_bundle: QueryBundle) -> List[NodeWithScore]:\n",
    "        \"\"\"Retrieve nodes given query.\"\"\"\n",
    "\n",
    "        vector_nodes = self._vector_retriever.retrieve(query_bundle)\n",
    "        pg_nodes = self._pg_retriever.retrieve(query_bundle)\n",
    "\n",
    "        vector_ids = {n.node.node_id for n in vector_nodes}\n",
    "        pg_ids = {n.node.node_id for n in pg_nodes}\n",
    "\n",
    "        combined_dict = {n.node.node_id: n for n in vector_nodes}\n",
    "        combined_dict.update({n.node.node_id: n for n in pg_nodes})\n",
    "\n",
    "        if self._mode == \"AND\":\n",
    "            retrieve_ids = vector_ids.intersection(pg_ids)\n",
    "        else:\n",
    "            retrieve_ids = vector_ids.union(pg_ids)\n",
    "\n",
    "        retrieve_nodes = [combined_dict[rid] for rid in retrieve_ids]\n",
    "        return retrieve_nodes"
   ]
  },
  {
   "cell_type": "code",
   "execution_count": 5,
   "metadata": {},
   "outputs": [],
   "source": [
    "job_assigns_df = pd.read_csv('data/person_to_job.csv').dropna(subset=['VRF ID']).reset_index(drop=True).iloc[:50]"
   ]
  },
  {
   "cell_type": "code",
   "execution_count": 6,
   "metadata": {},
   "outputs": [
    {
     "data": {
      "text/plain": [
       "' Participant with skills: Media and Communication / BPO Soft Skills / Enthusiastic Soft Skills / Soft-spoken and cordial was assigned to job:  Customer Support Representatives . Participant with skills: Soft Skills / Articulate in communication was assigned to job:  On ground Support . Participant with skills: Soft Skills / EnthusiasticBasic Computer Skills / Basic Computer (MS Office and Email) Skills was assigned to job:  Marketing . Participant with skills: General / Hospitality/ Hotel Manager was assigned to job:  Class Teacher . Participant with skills: Soft Skills / Articulate in communication was assigned to job:  Kannada Translator . Participant with skills: Soft Skills / Articulate in communication was assigned to job:  LSP . Participant with skills: Emedia / Digital Marketing was assigned to job:  Social media Manager . Participant with skills: Engineering / Electrical Engineer was assigned to job:  Content Support Executive (CSE) . Participant with skills: Education / Teacher - Others was assigned to job:  Project Manager . Participant with skills: Basic Computer Skills / Basic Computer (MS Office and Email) Skills was assigned to job:  Ashram Support . Participant with skills: Basic Computer Skills / Basic Computer (MS Office and Email) Skills was assigned to job:  Dining Support . Participant with skills: Engineering / Engineering - Others was assigned to job:  Researcher . Participant with skills: Soft Skills / Articulate in communication was assigned to job:  IHS . Participant with skills: Soft Skills / Articulate in communication was assigned to job:  Front Office Activities . Participant with skills: Medical / Medical - Others was assigned to job:  Tamil Nadu . Participant with skills: Basic Computer Skills / Basic Computer (MS Office and Email) Skills was assigned to job:  Administrative Activities (Back Office) . Participant with skills: Medical / Allopathy Doctor was assigned to job:  Ashram Support . Participant with skills: Environment / Agriculture/ Farmer was assigned to job:  Agri Marketing . Participant with skills: IT / IT - Others was assigned to job:  Applications . Participant with skills: Basic Computer Skills / Basic Computer (MS Office and Email) Skills was assigned to job:  Guiding Visitors . Participant with skills: Basic Computer Skills / Basic Computer (MS Office and Email) Skills was assigned to job:  French Translator . Participant with skills: Soft Skills / Fit for Physical Seva was assigned to job:  Akshaya Volunteers . Participant with skills: Education / Teacher - Others was assigned to job:  Italian Translator . Participant with skills: Engineering / Sound Engineer was assigned to job:  French Translator . Participant with skills: Basic Computer Skills / Basic Computer (MS Office and Email) Skills was assigned to job:  Recruitment Officer . Participant with skills: Basic Computer Skills / Basic Computer (MS Office and Email) Skills was assigned to job:  Video calls . Participant with skills: Basic Computer Skills / Basic Computer (MS Office and Email) Skills was assigned to job:  Tamil Nadu . Participant with skills: IT / Automation Test Engineer was assigned to job:  Applications . Participant with skills: Soft Skills / Articulate in communication was assigned to job:  Applications . Participant with skills: Basic Computer Skills / Basic Computer (MS Office and Email) Skills was assigned to job:  Applications . Participant with skills: Basic Computer Skills / Basic Computer (MS Office and Email) Skills was assigned to job:  Business Analyst (BA) . Participant with skills: Basic Computer Skills / Basic Computer (MS Office and Email) Skills was assigned to job:  TN . Participant with skills: Engineering / Mechanial Engineer was assigned to job:  Marathi Translator . Participant with skills: Basic Computer Skills / Basic Computer (MS Office and Email) Skills was assigned to job:  Ashram Support . Participant with skills: Basic Computer Skills / Basic Computer (MS Office and Email) Skills was assigned to job:  Front Office Activities . Participant with skills: Basic Computer Skills / Basic Computer (MS Office and Email) Skills was assigned to job:  Video calls . Participant with skills: IT / IT - Others was assigned to job:  Video calls . Participant with skills: Emedia / Active on Social Media was assigned to job:  Promotions . Participant with skills: Soft Skills / Articulate in communication was assigned to job:  Sales Manager/ Executive . Participant with skills: Basic Computer Skills / Basic Computer (MS Office and Email) Skills was assigned to job:  Ashram Support . Participant with skills: Basic Computer Skills / Basic Computer (MS Office and Email) Skills was assigned to job:  LSP . Participant with skills: Basic Computer Skills / Basic Computer (MS Office and Email) Skills was assigned to job:  Tamil Translator . Participant with skills: Basic Computer Skills / Data Entry skills was assigned to job:  Administrative Activities (Back Office) . Participant with skills: Soft Skills / Articulate in communication was assigned to job:  Maintenance Support . Participant with skills: Medical / Allopathy Doctor was assigned to job:  Ashram Support . Participant with skills: Emedia / Digital Marketing was assigned to job:  Growth Marketing Manager . Participant with skills: Soft Skills / Articulate in communication was assigned to job:  Guiding Visitors . Participant with skills: Basic Computer Skills / Basic Computer (MS Office and Email) Skills was assigned to job:  Platform Manager . Participant with skills: Soft Skills / Articulate in communication was assigned to job:  Tamil Nadu . Participant with skills: Corporate / Small Business Owner was assigned to job:  Akshaya Volunteers '"
      ]
     },
     "execution_count": 6,
     "metadata": {},
     "output_type": "execute_result"
    }
   ],
   "source": [
    "job_assigns_df['job'] = job_assigns_df['VRF ID'].apply(lambda x: x.split('-')[1])\n",
    "job_assigns_df['Skillset'] = job_assigns_df['Skillset'].apply(lambda x: x.replace('\\n', ' '))\n",
    "job_assigns_df['summary'] = \" Participant with skills: \" + job_assigns_df['Skillset'] + \" was assigned to job: \" + job_assigns_df['job']\n",
    "corpus = '.'.join(job_assigns_df['summary'])\n",
    "corpus\n"
   ]
  },
  {
   "cell_type": "code",
   "execution_count": 7,
   "metadata": {},
   "outputs": [],
   "source": [
    "#documents = SimpleDirectoryReader('data/').load_data()\n",
    "\n",
    "documents = [Document(text=corpus)]\n",
    "\n",
    "embeddings = OpenAIEmbeddings()\n",
    "llm = OpenAI(temperature=0, model_name=\"gpt-4o\", max_tokens=4000)\n",
    "# llm = OpenAI(temperature=0, model=\"text-davinci-002\")\n",
    "Settings.llm = llm\n",
    "Settings.embed_model = embeddings"
   ]
  },
  {
   "cell_type": "code",
   "execution_count": 8,
   "metadata": {
    "id": "FFtsI1xxYS0w"
   },
   "outputs": [
    {
     "data": {
      "application/vnd.jupyter.widget-view+json": {
       "model_id": "81a957c3171541a29d74025fb869ef7e",
       "version_major": 2,
       "version_minor": 0
      },
      "text/plain": [
       "Parsing nodes:   0%|          | 0/1 [00:00<?, ?it/s]"
      ]
     },
     "metadata": {},
     "output_type": "display_data"
    },
    {
     "name": "stderr",
     "output_type": "stream",
     "text": [
      "Extracting and inferring knowledge graph from text: 100%|██████████| 2/2 [00:07<00:00,  3.93s/it]\n",
      "Generating embeddings: 100%|██████████| 1/1 [00:00<00:00,  1.27it/s]\n",
      "Generating embeddings: 100%|██████████| 8/8 [00:01<00:00,  6.78it/s]\n"
     ]
    }
   ],
   "source": [
    "\n",
    "kg_extractor = DynamicLLMPathExtractor(\n",
    "    llm=llm,\n",
    "    max_triplets_per_chunk=20,\n",
    "    num_workers=4,\n",
    "    allowed_entity_types=[\"JOB\", \"SKILL\"],\n",
    "    allowed_relation_types=[\"WORKS_WITH\", \"RELATED_TO\", \"SIMILAR_TO\"], #\"USED_BY\",\n",
    ")\n",
    "\n",
    "pg_index = PropertyGraphIndex.from_documents(\n",
    "    documents,\n",
    "    llm = llm,\n",
    "    embed_model = embeddings,\n",
    "    show_progress=True,\n",
    "    kg_extractors=[kg_extractor],\n",
    ")\n",
    "\n"
   ]
  },
  {
   "cell_type": "code",
   "execution_count": 9,
   "metadata": {},
   "outputs": [],
   "source": [
    "pg_index.property_graph_store.save_networkx_graph(name=\"kg.html\")\n",
    "pg_retriever = pg_index.as_retriever()"
   ]
  },
  {
   "cell_type": "code",
   "execution_count": 10,
   "metadata": {},
   "outputs": [],
   "source": [
    "vector_index = VectorStoreIndex.from_documents(documents)\n",
    "vector_retriever = VectorIndexRetriever(index=vector_index)\n"
   ]
  },
  {
   "cell_type": "code",
   "execution_count": null,
   "metadata": {},
   "outputs": [],
   "source": [
    "custom_retriever = GraphRagRetriever(vector_retriever, pg_retriever)\n",
    "\n",
    "# create response synthesizer\n",
    "response_synthesizer = get_response_synthesizer(\n",
    "    response_mode=\"tree_summarize\",\n",
    ")"
   ]
  },
  {
   "cell_type": "code",
   "execution_count": 13,
   "metadata": {},
   "outputs": [],
   "source": [
    "custom_query_engine = RetrieverQueryEngine(\n",
    "    retriever=custom_retriever,\n",
    "    response_synthesizer=response_synthesizer,\n",
    ")\n",
    "\n",
    "vector_query_engine = vector_index.as_query_engine()\n",
    "\n",
    "pg_keyword_query_engine = pg_index.as_query_engine(\n",
    "    # setting to false uses the raw triplets instead of adding the text from the corresponding nodes\n",
    "    include_text=False,\n",
    "    retriever_mode=\"keyword\",\n",
    "    response_mode=\"tree_summarize\",\n",
    ")"
   ]
  },
  {
   "cell_type": "code",
   "execution_count": 16,
   "metadata": {},
   "outputs": [
    {
     "data": {
      "text/markdown": [
       "<b>Basic Computer Skills are required for various roles such as Administrative Activities (Back Office), Ashram Support, Platform Manager, Video calls, Tamil Translator, LSP, and Dining Support. Emedia skills are necessary for roles like Growth Marketing Manager and Promotions. Soft Skills, particularly being articulate in communication, are valued in positions like Sales Manager/Executive, Maintenance Support, Guiding Visitors, On ground Support, Marketing, Kannada Translator, IHS, Front Office Activities, and Customer Support Representatives. Additionally, Medical skills are relevant for Ashram Support, while Engineering skills are needed for roles like Content Support Executive (CSE) and Researcher.</b>"
      ],
      "text/plain": [
       "<IPython.core.display.Markdown object>"
      ]
     },
     "metadata": {},
     "output_type": "display_data"
    }
   ],
   "source": [
    "response = custom_query_engine.query(\"Give me some information on my data\")\n",
    "display(Markdown(f\"<b>{response}</b>\"))"
   ]
  },
  {
   "cell_type": "code",
   "execution_count": null,
   "metadata": {},
   "outputs": [],
   "source": []
  }
 ],
 "metadata": {
  "colab": {
   "provenance": []
  },
  "kernelspec": {
   "display_name": "Python 3",
   "language": "python",
   "name": "python3"
  },
  "language_info": {
   "codemirror_mode": {
    "name": "ipython",
    "version": 3
   },
   "file_extension": ".py",
   "mimetype": "text/x-python",
   "name": "python",
   "nbconvert_exporter": "python",
   "pygments_lexer": "ipython3",
   "version": "3.9.12"
  },
  "widgets": {
   "application/vnd.jupyter.widget-state+json": {
    "0736b820a1f14f0eb47598406a2b93e5": {
     "model_module": "@jupyter-widgets/controls",
     "model_module_version": "1.5.0",
     "model_name": "HBoxModel",
     "state": {
      "_dom_classes": [],
      "_model_module": "@jupyter-widgets/controls",
      "_model_module_version": "1.5.0",
      "_model_name": "HBoxModel",
      "_view_count": null,
      "_view_module": "@jupyter-widgets/controls",
      "_view_module_version": "1.5.0",
      "_view_name": "HBoxView",
      "box_style": "",
      "children": [
       "IPY_MODEL_928662000ace4bc5b3b7ff22682ada16",
       "IPY_MODEL_de939334d11646a0a5479db5cfb0f845",
       "IPY_MODEL_528ecd9ed123454aa90e0766bf9830f1"
      ],
      "layout": "IPY_MODEL_570b453aac894f18acb336a73302ce2c"
     }
    },
    "4d7aa9a3351740efb1b7e1424c7bd476": {
     "model_module": "@jupyter-widgets/base",
     "model_module_version": "1.2.0",
     "model_name": "LayoutModel",
     "state": {
      "_model_module": "@jupyter-widgets/base",
      "_model_module_version": "1.2.0",
      "_model_name": "LayoutModel",
      "_view_count": null,
      "_view_module": "@jupyter-widgets/base",
      "_view_module_version": "1.2.0",
      "_view_name": "LayoutView",
      "align_content": null,
      "align_items": null,
      "align_self": null,
      "border": null,
      "bottom": null,
      "display": null,
      "flex": null,
      "flex_flow": null,
      "grid_area": null,
      "grid_auto_columns": null,
      "grid_auto_flow": null,
      "grid_auto_rows": null,
      "grid_column": null,
      "grid_gap": null,
      "grid_row": null,
      "grid_template_areas": null,
      "grid_template_columns": null,
      "grid_template_rows": null,
      "height": null,
      "justify_content": null,
      "justify_items": null,
      "left": null,
      "margin": null,
      "max_height": null,
      "max_width": null,
      "min_height": null,
      "min_width": null,
      "object_fit": null,
      "object_position": null,
      "order": null,
      "overflow": null,
      "overflow_x": null,
      "overflow_y": null,
      "padding": null,
      "right": null,
      "top": null,
      "visibility": null,
      "width": null
     }
    },
    "528ecd9ed123454aa90e0766bf9830f1": {
     "model_module": "@jupyter-widgets/controls",
     "model_module_version": "1.5.0",
     "model_name": "HTMLModel",
     "state": {
      "_dom_classes": [],
      "_model_module": "@jupyter-widgets/controls",
      "_model_module_version": "1.5.0",
      "_model_name": "HTMLModel",
      "_view_count": null,
      "_view_module": "@jupyter-widgets/controls",
      "_view_module_version": "1.5.0",
      "_view_name": "HTMLView",
      "description": "",
      "description_tooltip": null,
      "layout": "IPY_MODEL_4d7aa9a3351740efb1b7e1424c7bd476",
      "placeholder": "​",
      "style": "IPY_MODEL_d88ca0ce51144edd8a18e59206efed4b",
      "value": " 1/1 [00:00&lt;00:00,  5.11it/s]"
     }
    },
    "570b453aac894f18acb336a73302ce2c": {
     "model_module": "@jupyter-widgets/base",
     "model_module_version": "1.2.0",
     "model_name": "LayoutModel",
     "state": {
      "_model_module": "@jupyter-widgets/base",
      "_model_module_version": "1.2.0",
      "_model_name": "LayoutModel",
      "_view_count": null,
      "_view_module": "@jupyter-widgets/base",
      "_view_module_version": "1.2.0",
      "_view_name": "LayoutView",
      "align_content": null,
      "align_items": null,
      "align_self": null,
      "border": null,
      "bottom": null,
      "display": null,
      "flex": null,
      "flex_flow": null,
      "grid_area": null,
      "grid_auto_columns": null,
      "grid_auto_flow": null,
      "grid_auto_rows": null,
      "grid_column": null,
      "grid_gap": null,
      "grid_row": null,
      "grid_template_areas": null,
      "grid_template_columns": null,
      "grid_template_rows": null,
      "height": null,
      "justify_content": null,
      "justify_items": null,
      "left": null,
      "margin": null,
      "max_height": null,
      "max_width": null,
      "min_height": null,
      "min_width": null,
      "object_fit": null,
      "object_position": null,
      "order": null,
      "overflow": null,
      "overflow_x": null,
      "overflow_y": null,
      "padding": null,
      "right": null,
      "top": null,
      "visibility": null,
      "width": null
     }
    },
    "9096ed15cb6f4a438d44a55eb960b660": {
     "model_module": "@jupyter-widgets/controls",
     "model_module_version": "1.5.0",
     "model_name": "ProgressStyleModel",
     "state": {
      "_model_module": "@jupyter-widgets/controls",
      "_model_module_version": "1.5.0",
      "_model_name": "ProgressStyleModel",
      "_view_count": null,
      "_view_module": "@jupyter-widgets/base",
      "_view_module_version": "1.2.0",
      "_view_name": "StyleView",
      "bar_color": null,
      "description_width": ""
     }
    },
    "928662000ace4bc5b3b7ff22682ada16": {
     "model_module": "@jupyter-widgets/controls",
     "model_module_version": "1.5.0",
     "model_name": "HTMLModel",
     "state": {
      "_dom_classes": [],
      "_model_module": "@jupyter-widgets/controls",
      "_model_module_version": "1.5.0",
      "_model_name": "HTMLModel",
      "_view_count": null,
      "_view_module": "@jupyter-widgets/controls",
      "_view_module_version": "1.5.0",
      "_view_name": "HTMLView",
      "description": "",
      "description_tooltip": null,
      "layout": "IPY_MODEL_d993f23c2d164d6f857d8ad045875826",
      "placeholder": "​",
      "style": "IPY_MODEL_9fd0cba1a57444bab364f63023fc0866",
      "value": "Parsing nodes: 100%"
     }
    },
    "9fd0cba1a57444bab364f63023fc0866": {
     "model_module": "@jupyter-widgets/controls",
     "model_module_version": "1.5.0",
     "model_name": "DescriptionStyleModel",
     "state": {
      "_model_module": "@jupyter-widgets/controls",
      "_model_module_version": "1.5.0",
      "_model_name": "DescriptionStyleModel",
      "_view_count": null,
      "_view_module": "@jupyter-widgets/base",
      "_view_module_version": "1.2.0",
      "_view_name": "StyleView",
      "description_width": ""
     }
    },
    "d88ca0ce51144edd8a18e59206efed4b": {
     "model_module": "@jupyter-widgets/controls",
     "model_module_version": "1.5.0",
     "model_name": "DescriptionStyleModel",
     "state": {
      "_model_module": "@jupyter-widgets/controls",
      "_model_module_version": "1.5.0",
      "_model_name": "DescriptionStyleModel",
      "_view_count": null,
      "_view_module": "@jupyter-widgets/base",
      "_view_module_version": "1.2.0",
      "_view_name": "StyleView",
      "description_width": ""
     }
    },
    "d993f23c2d164d6f857d8ad045875826": {
     "model_module": "@jupyter-widgets/base",
     "model_module_version": "1.2.0",
     "model_name": "LayoutModel",
     "state": {
      "_model_module": "@jupyter-widgets/base",
      "_model_module_version": "1.2.0",
      "_model_name": "LayoutModel",
      "_view_count": null,
      "_view_module": "@jupyter-widgets/base",
      "_view_module_version": "1.2.0",
      "_view_name": "LayoutView",
      "align_content": null,
      "align_items": null,
      "align_self": null,
      "border": null,
      "bottom": null,
      "display": null,
      "flex": null,
      "flex_flow": null,
      "grid_area": null,
      "grid_auto_columns": null,
      "grid_auto_flow": null,
      "grid_auto_rows": null,
      "grid_column": null,
      "grid_gap": null,
      "grid_row": null,
      "grid_template_areas": null,
      "grid_template_columns": null,
      "grid_template_rows": null,
      "height": null,
      "justify_content": null,
      "justify_items": null,
      "left": null,
      "margin": null,
      "max_height": null,
      "max_width": null,
      "min_height": null,
      "min_width": null,
      "object_fit": null,
      "object_position": null,
      "order": null,
      "overflow": null,
      "overflow_x": null,
      "overflow_y": null,
      "padding": null,
      "right": null,
      "top": null,
      "visibility": null,
      "width": null
     }
    },
    "de939334d11646a0a5479db5cfb0f845": {
     "model_module": "@jupyter-widgets/controls",
     "model_module_version": "1.5.0",
     "model_name": "FloatProgressModel",
     "state": {
      "_dom_classes": [],
      "_model_module": "@jupyter-widgets/controls",
      "_model_module_version": "1.5.0",
      "_model_name": "FloatProgressModel",
      "_view_count": null,
      "_view_module": "@jupyter-widgets/controls",
      "_view_module_version": "1.5.0",
      "_view_name": "ProgressView",
      "bar_style": "success",
      "description": "",
      "description_tooltip": null,
      "layout": "IPY_MODEL_e33665abf0064b5fa7c391aaefdee8df",
      "max": 1,
      "min": 0,
      "orientation": "horizontal",
      "style": "IPY_MODEL_9096ed15cb6f4a438d44a55eb960b660",
      "value": 1
     }
    },
    "e33665abf0064b5fa7c391aaefdee8df": {
     "model_module": "@jupyter-widgets/base",
     "model_module_version": "1.2.0",
     "model_name": "LayoutModel",
     "state": {
      "_model_module": "@jupyter-widgets/base",
      "_model_module_version": "1.2.0",
      "_model_name": "LayoutModel",
      "_view_count": null,
      "_view_module": "@jupyter-widgets/base",
      "_view_module_version": "1.2.0",
      "_view_name": "LayoutView",
      "align_content": null,
      "align_items": null,
      "align_self": null,
      "border": null,
      "bottom": null,
      "display": null,
      "flex": null,
      "flex_flow": null,
      "grid_area": null,
      "grid_auto_columns": null,
      "grid_auto_flow": null,
      "grid_auto_rows": null,
      "grid_column": null,
      "grid_gap": null,
      "grid_row": null,
      "grid_template_areas": null,
      "grid_template_columns": null,
      "grid_template_rows": null,
      "height": null,
      "justify_content": null,
      "justify_items": null,
      "left": null,
      "margin": null,
      "max_height": null,
      "max_width": null,
      "min_height": null,
      "min_width": null,
      "object_fit": null,
      "object_position": null,
      "order": null,
      "overflow": null,
      "overflow_x": null,
      "overflow_y": null,
      "padding": null,
      "right": null,
      "top": null,
      "visibility": null,
      "width": null
     }
    }
   }
  }
 },
 "nbformat": 4,
 "nbformat_minor": 0
}
