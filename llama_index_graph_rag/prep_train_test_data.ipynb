{
 "cells": [
  {
   "cell_type": "code",
   "execution_count": 43,
   "metadata": {},
   "outputs": [],
   "source": [
    "import pandas as pd\n",
    "from sklearn.model_selection import train_test_split\n",
    "import numpy as np\n",
    "import os"
   ]
  },
  {
   "cell_type": "markdown",
   "metadata": {},
   "source": [
    "# Setup RAG Index Input Corpus for Past Participant Data (DEPRECATED)\n",
    "Note that this approach is now deprecated"
   ]
  },
  {
   "cell_type": "code",
   "execution_count": null,
   "metadata": {},
   "outputs": [],
   "source": [
    "os.makedirs(os.path.dirname(\"data/past_participants_split/\"), exist_ok=True)\n",
    "df = pd.read_csv('data/past_participant_info.csv')\n",
    "df = df.dropna(subset=['VRF ID', 'Skillset', 'Person Id']).reset_index(drop=True)\n",
    "train_ratio = 0.8\n",
    "train_df, eval_df = train_test_split(df['Person Id'], test_size=(1 - train_ratio), random_state=42)\n",
    "train_df.to_csv(\"data/past_participants_split/train_ids.csv\", index=False)\n",
    "eval_df.to_csv(\"data/past_participants_split/eval_ids.csv\", index=False)\n",
    "\n",
    "def create_applicant_info_corpus(applicant_info_csv: str, train_ids_csv: str, max_samples: int = -1) -> str:\n",
    "    \"\"\"Create a corpus of applicant information from a CSV file.\n",
    "\n",
    "    Args:\n",
    "        applicant_info_csv: Path to the CSV file containing applicant information.\n",
    "        train_ids_csv: Path to the CSV file containing the train IDs.\n",
    "        max_samples: Maximum number of samples to use. If -1, use all samples.\n",
    "\n",
    "    Returns:\n",
    "        A corpus of applicant information.\n",
    "    \"\"\"\n",
    "    train_ids_df = pd.read_csv(train_ids_csv)\n",
    "    max_samples = len(train_ids_df) if max_samples == -1 else min(max_samples, len(train_ids_df))\n",
    "    train_ids_df = train_ids_df.sample(n=max_samples, random_state=42)\n",
    "    job_assigns_df = pd.read_csv(applicant_info_csv)\n",
    "    job_assigns_df = train_ids_df.merge(job_assigns_df, on='Person Id', how='inner')\n",
    "    job_assigns_df['job'] = job_assigns_df['VRF ID'].apply(lambda x: x.split('-')[1])\n",
    "    job_assigns_df['Skillset'] = job_assigns_df['Skillset'].apply(lambda x: x.replace('\\n', ' '))\n",
    "    job_assigns_df['summary'] = \" Participant with skills: \" + job_assigns_df['Skillset'] + \" was assigned to job: \" + job_assigns_df['job'] + \".\\n\"\n",
    "    corpus = ''.join(job_assigns_df['summary'])\n",
    "    return corpus\n",
    "\n",
    "corpus = create_applicant_info_corpus('data/past_participant_info.csv', 'data/generated_participants_training/train_ids.csv', -1)\n",
    "with open(\"data/past_participants_split/train_corpus.txt\", \"w\") as file:\n",
    "    file.write(corpus)\n",
    "eval_ids_df = pd.read_csv('data/past_participants_split/eval_ids.csv')\n",
    "eval_data = eval_ids_df.merge(df, on='Person Id', how='inner')\n",
    "eval_data[\"eval_input\"] =  \" Participant \" + eval_data[\"Person Id\"].astype(str) + \" has skills: \" + eval_data['Skillset']"
   ]
  },
  {
   "cell_type": "code",
   "execution_count": 100,
   "metadata": {},
   "outputs": [],
   "source": [
    "from utils import create_timestamped_results, get_latest_index_version\n",
    "from llama_index.core.query_engine import RetrieverQueryEngine\n",
    "from llama_index.core.retrievers import VectorIndexRetriever, VectorContextRetriever\n",
    "from llama_index.core import StorageContext, load_index_from_storage\n",
    "from llama_index.llms.openai import OpenAI\n",
    "from langchain_openai import OpenAIEmbeddings\n",
    "from llama_index.core import Settings\n",
    "\n",
    "\n",
    "from dotenv import load_dotenv\n",
    "# Load environment variables from a .env file\n",
    "load_dotenv()\n",
    "\n",
    "llm = OpenAI(temperature=0, model_name=\"gpt-4o\", max_tokens=4000)\n",
    "embeddings = OpenAIEmbeddings()\n",
    "Settings.llm = llm\n",
    "Settings.embed_model = embeddings\n"
   ]
  },
  {
   "cell_type": "code",
   "execution_count": 108,
   "metadata": {},
   "outputs": [
    {
     "name": "stdout",
     "output_type": "stream",
     "text": [
      "subdirs: ['index-20241123_135104', 'index-20241128_135403', 'index-20241130_145649', 'index-20241129_110402', 'index-20241123_134612', 'index-20241125_123955', 'index-20241127_151849', 'index-20241128_140642']\n",
      "I want you to provide job title recommendations for a set of participants based on their skills.\n",
      "Each participant should get 5 unique job recommendations (please do not repeat jobs for the same person)\n",
      "ranked by relevance to their skills based on the job descriptions and required skills that are available in the corpus.\n",
      "Please give me the participant's number followed by the list of recommended job titles in this format\n",
      "\"{Participant Id}/-/{Job Title rank 1},{Job Title rank 2},{Job Title rank 3},{Job Title rank 4},{Job Title rank 5}\n",
      "\".\n",
      "Please do not add any other text to the response other than the id and titles.\n",
      "Here is the information about the participants please do not skip a single of the 5 participants: \n",
      " Participant 385890 has skills: Accounting / Basic Accountancyand specifically computer skills: Good knowledge of computer and internet including all social media platforms and Microsoft tools etc. The participant worked with designation: Officerand has a Bachelor of Technology (B.Tech)education specialized in Mechanical\n",
      " Participant 427518 has skills: Basic Computer Skills / Basic Computer (MS Office and Email) Skillsand specifically computer skills: As a recent student, I know to operate basic programs like excel, power point etc. but I'm ready to help in various different programs by learning them if needed.. The participant worked with designation: NAand has a HSC/12education specialized in Science\n",
      " Participant 394305 has skills: Corporate / Bank Managerand specifically computer skills: Basic computer skill. The participant worked with designation: Assistant managerand has a Bachelor of Commerce (B.Com)education specialized in Accounting\n",
      " Participant 426261 has skills: Basic Computer Skills / Basic Computer (MS Office and Email) Skillsand specifically computer skills: C Programming, R Programming, Basic Python Programming. The participant worked with designation: Software Engineer Internand has a Bachelor of Engineering (B.E.)education specialized in Computer Science\n",
      " Participant 412498 has skills: Basic Computer Skills / Basic Computer (MS Office and Email) Skillsand specifically computer skills: excel, ms office, Digital art.. The participant worked with designation: NAand has a Bachelor of Computer Application (B.C.A.)education specialized in NA\n",
      "The job titled: \"Creative Director\" has a description: IT Background, and requires the following skills: IT / Artificial Intelligence/ Machine Learning.\n",
      "The job titled: \"Accountant\" has a description: Basic Knowledge Persons-7 Nos, Skilled Persons-3 Nos, and requires the following skills: Accounting / Auditor.\n",
      "The job titled: \"On ground Support\" has a description:  Material dispatch and follow ups, and requires the following skills: Basic Computer Skills / Data Entry skills.\n",
      "The job titled: \"Dining Support\" has a description: Need Volunteers to support with daily dining activity of the Hatha Yoga Teacher Training Program. Full-time support needed. We need a combination of both male and female volunteers;  enough male volunteers needed for lifting, shifting food and materials, and requires the following skills: Soft Skills / Fit for Physical Seva.\n",
      "The job titled: \"Coordinating Activities\" has a description: Transport Coordinator  Need volunteers to support daily with coordination of transport between Shivapadam 3, 4 & Adiyogi Alayam, and requires the following skills: Soft Skills / Fit for Physical Seva.\n",
      "The job titled: \"Coordinating Activities\" has a description: Medical Care/Coordination  Need volunteers to coordinate medical appointments and support with coordinating any medical related requests  Preferably females, and requires the following skills: Soft Skills / Fit for Physical Seva.\n",
      "The job titled: \"Translators\" has a description: To translate and create subtitle files for all the Hatha Yoga class videos, and requires the following skills: Soft Skills / Articulate in communication.\n",
      "The job titled: \"Content Writer\" has a description: Writing, proofing, editing. Must have excellent grasp over English language. , and requires the following skills: Media and Communication / Content Writer.\n",
      "The job titled: \"Researcher\" has a description: To find and read material on diverse topics from credible sources, assimilate the information and present it in an easy-to-understand report, in a timely manner., and requires the following skills: General / Researcher.\n",
      "The job titled: \"Accountant\" has a description: Background in finance, verification of accounts and bills  , and requires the following skills: Accounting / Basic Accountancy.\n",
      "The job titled: \"Artificial Intelligence (AI) Enthusiast\" has a description: Build and train AI & Machine Learning models after analyzing data in the form of existing publications documents; formatting and clustering them. Look at existing activities in dept and see where automation can be introduced to reduce workload., and requires the following skills: IT / Artificial Intelligence/ Machine Learning.\n",
      "The job titled: \"Allopathy Doctor\" has a description: Allopathy Doctor, and requires the following skills: Medical / Allopathy Doctor.\n",
      "The job titled: \"Allopathy Doctor\" has a description: Ayurveda Doctor. But this category is not available in the job title, so raising under Allopathy Doctor, and requires the following skills: Medical / Allopathy Doctor.\n",
      "The job titled: \"Maintenance Support\" has a description: To oversee, manage and coordinate the maintenance activities , and requires the following skills: Others / Air Force.\n",
      "The job titled: \"Hindi Translator\" has a description: Translation of books, videos, articles  , and requires the following skills: Media and Communication / Content Writer.\n",
      "The job titled: \"Guiding Visitors\" has a description: Information Center- where we warmly greet and guide visitors, addressing their inquiries and directing them to Dhyanalinga. they will engage with their interests and facilitate communication, while actively participating in temple promotion/ save soil/ sticker project/ awareness campaign. Additionally, they will foster the Adiyogi community by disseminating information effectively., and requires the following skills: Soft Skills / Articulate in communication.\n",
      "The job titled: \"Maintenance Support\" has a description: Housekeeping managing experience, and requires the following skills: Others / Air Force.\n",
      "The job titled: \"Coordinating Activities\" has a description: Coordinating among different sub teams in the department, and requires the following skills: Soft Skills / Enthusiastic.\n",
      "The job titled: \"Audio calls - Interviews\" has a description: To call patients for the treatment review, program participants for feedback, and requires the following skills: Media and Communication / BPO.\n",
      "The job titled: \"Medicine Room\" has a description: To support in Medicine room, and requires the following skills: Medical / Medical - Others.\n",
      "The job titled: \"Nurse\" has a description: To take care of patients, and requires the following skills: Medical / Medical - Others.\n",
      "The job titled: \"Business Analyst (BA)\" has a description: Need to test the current software and Fulfill Department IT requirements. , and requires the following skills: IT / Business Analyst.\n",
      "The job titled: \"Data Analyst\" has a description: - Tasked with designing, developing, and maintaining complex spreadsheet systems using Google Sheets. - Proficient in creating custom formulas, scripts, and automation to optimize workflows and streamline processes. - Responsible for analyzing data sets using Google Sheets, creating complex formulas and functions to derive insights, and developing visualizations for reporting purposes. - Proficient in manipulating large datasets, conducting data cleansing, and ensuring data accuracy within Google Sheets or similar spreadsheet platforms (Appsheet) - Tasked with designing, developing, and maintaining complex spreadsheet systems using Google Sheets.  ** Can maintain data confidentiality (trustable with sensitive VIP data) ** Preferably someone who has volunteered before, and requires the following skills: Soft Skills / Articulate in communication.\n",
      "The job titled: \"Content Manager\" has a description: Content Writer, Content Manager, Researcher, Project Manager (Music Related)  Experienced in the music or entertainment industry. Experience working as an artist or entertainment manager, A&R in music, creative direction / project management / brand building for music projects, and basic graphic design and Google office skills. Support of this volunteer will be required for the upcoming conscious planet movt., and requires the following skills: Soft Skills / Articulate in communication.\n",
      "The job titled: \"Allopathy Doctor\" has a description: Need Doctors for the Muttathuvayal Tribal Clinic, and requires the following skills: Medical / Allopathy Doctor.\n",
      "The job titled: \"Dentist\" has a description: Dentist for Alandurai Rural Clinic, and requires the following skills: Medical / Dentist.\n",
      "The job titled: \"On ground Support\" has a description: Need organising and administration support for the 2 Isha Rural Health Clinics in Coimbatore. Support might include facilitating the shifting of patients from the villages to Isha/Outside clinics, Taking care of the Herbal Garden etc..., and requires the following skills: Soft Skills / Fit for Physical Seva.\n",
      "The job titled: \"Content Writer\" has a description: Who can support in writing reports especially donor reports, creating newsletters etc.., and requires the following skills: Media and Communication / Content Writer.\n",
      "The job titled: \"Guest Care Support\" has a description: \"\"\"Key Responsibilities: - Guest Engagement : Greet guests warmly and assist them with any inquiries, requests, or concerns, take them on an ashram tour,  and - - ensure a welcoming and friendly atmosphere during their whole time at IYC. Information Resource: Provide accurate information about the ashram spaces, Isha’s projects, programs and anything else that might come up. - Communication: Maintain clear and open communication with guests through various channels, including in-person, phone, email, or chat. - Booking and Reservation Assistance: Assist guests in making reservations, bookings, for cottage, cab and programs/rituals.  Feedback Collection: Collect and record guest feedback and reviews, forwarding valuable insights to the relevant teams for continuous improvement. - Emergency Response: Be knowledgeable about emergency procedures and assist in handling guest-related emergencies calmly and efficiently. - Record Keeping: Maintain detailed records of guest interactions and transactions, ensuring accuracy and confidentiality. - Team Collaboration: Collaborate closely with other departments to coordinate guest services and resolve issues effectively.  Requirements: Strong interpersonal and communication skills, proficiency in speaking and reading Tamil and English Empathy and a genuine desire to make sure guests experience the ashram in the best way possible Ability to remain calm and composed in high-pressure situations. Excellent problem-solving skills and attention to detail. Flexibility to be available at all hours when required on certain days. \"\"\", and requires the following skills: General / Hospitality/ Hotel Manager.\n",
      "The job titled: \"Product/ Mechanical Engineer\" has a description: Will be using Solid works or Inventor to make 3D models of temple production products, carpentry furniture etc., and requires the following skills: Arts and Crafts / Carpenter.\n",
      "The job titled: \"Administrative Activities (Back Office)\" has a description: Will be doing back office accounting work, and requires the following skills: Accounting / Basic Accountancy.\n",
      "The job titled: \"Architect\" has a description: Architectural Drawings for Multi-Storied building and Independent houses.  Would be good to have some exposure to MEP design Should know to use Sketchup or AutoCad May work on Interior designs, and requires the following skills: Construction & Fabrication / Architect.\n",
      "The job titled: \"Structural Engineer\" has a description: Perform ETABS or Staad analysis of RCC or Steel Structural buildings Must have 2 years of experience Must know how to use AutoCAD Advantage if the person knows Inventor or Solidworks, and requires the following skills: Engineering / Engineering - Others.\n",
      "The job titled: \"Transcription\" has a description: 1. English - Backlog Transcription, completing Tamil content in English files. 2.\n"
     ]
    }
   ],
   "source": [
    "\n",
    "latest_vector_store_dir = get_latest_index_version(\"vector_store_versions/\")\n",
    "storage_context = StorageContext.from_defaults(persist_dir=latest_vector_store_dir)\n",
    "vector_index = load_index_from_storage(storage_context)\n",
    "vector_index_retriever = VectorIndexRetriever(index=vector_index)\n",
    "# vector_context_retriever = VectorContextRetriever(vector_store=vector_index, top_k=5)\n",
    "\n",
    "eval_df = pd.read_csv(\"data/past_participant_info.csv\")\n",
    "eval_df = eval_df[eval_df['Seva Allocation Accurate or not']==1].dropna(subset=['Person Id', 'Skillset', 'VRF ID', ]).sample(5)\n",
    "eval_df[[\"Computer Skills\", \"Work Designation\", \"Education\", \"Education Specialization\"]] = eval_df[[\"Computer Skills\", \"Work Designation\", \"Education\", \"Education Specialization\"]].fillna(\"NA\")\n",
    "eval_df[\"eval_input\"] =  \" Participant \" + eval_df[\"Person Id\"].astype(str) + \" has skills: \" + eval_df['Skillset'] + \\\n",
    "                        \"and specifically computer skills: \" + eval_df[\"Computer Skills\"] + \\\n",
    "                        \". The participant worked with designation: \" + eval_df[\"Work Designation\"] + \\\n",
    "                        \"and has a \" + eval_df[\"Education\"] + \"education specialized in \" + eval_df[\"Education Specialization\"]\n",
    "\n",
    "\n",
    "query = \\\n",
    "\"\"\"I want you to provide job title recommendations for a set of participants based on their skills.\n",
    "Each participant should get 5 unique job recommendations (please do not repeat jobs for the same person)\n",
    "ranked by relevance to their skills based on the job descriptions and required skills that are available in the corpus.\n",
    "Please give me the participant's number followed by the list of recommended job titles in this format\n",
    "\"{Participant Id}/-/{Job Title rank 1},{Job Title rank 2},{Job Title rank 3},{Job Title rank 4},{Job Title rank 5}\\n\".\n",
    "Please do not add any other text to the response other than the id and titles.\n",
    "Here is the information about the participants please do not skip a single of the 5 participants: \\n\"\"\"\n",
    "\n",
    "participants = eval_df[\"eval_input\"].values\n",
    "query += \"\\n\".join(participants)\n",
    "\n",
    "results = vector_index_retriever.retrieve(query)\n",
    "# context = vector_context_retriever.retrieve(query)\n",
    "\n",
    "print(query)\n",
    "print(results[0].text)\n",
    "print(results[1].text)\n",
    "# print(context)\n"
   ]
  },
  {
   "cell_type": "code",
   "execution_count": 110,
   "metadata": {},
   "outputs": [
    {
     "data": {
      "text/plain": [
       "<llama_index.core.indices.vector_store.retrievers.retriever.VectorIndexRetriever at 0x154c55a00>"
      ]
     },
     "execution_count": 110,
     "metadata": {},
     "output_type": "execute_result"
    }
   ],
   "source": [
    "# vector_index\n",
    "# vector_index_retriever"
   ]
  },
  {
   "cell_type": "code",
   "execution_count": null,
   "metadata": {},
   "outputs": [],
   "source": []
  }
 ],
 "metadata": {
  "kernelspec": {
   "display_name": "Python 3",
   "language": "python",
   "name": "python3"
  },
  "language_info": {
   "codemirror_mode": {
    "name": "ipython",
    "version": 3
   },
   "file_extension": ".py",
   "mimetype": "text/x-python",
   "name": "python",
   "nbconvert_exporter": "python",
   "pygments_lexer": "ipython3",
   "version": "3.9.12"
  }
 },
 "nbformat": 4,
 "nbformat_minor": 2
}
