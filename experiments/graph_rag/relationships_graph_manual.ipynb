{
 "cells": [
  {
   "cell_type": "code",
   "execution_count": 22,
   "metadata": {},
   "outputs": [
    {
     "name": "stderr",
     "output_type": "stream",
     "text": [
      "/usr/local/lib/python3.9/site-packages/sentence_transformers/cross_encoder/CrossEncoder.py:11: TqdmExperimentalWarning: Using `tqdm.autonotebook.tqdm` in notebook mode. Use `tqdm.tqdm` instead to force console mode (e.g. in jupyter console)\n",
      "  from tqdm.autonotebook import tqdm, trange\n"
     ]
    },
    {
     "data": {
      "text/plain": [
       "True"
      ]
     },
     "execution_count": 22,
     "metadata": {},
     "output_type": "execute_result"
    }
   ],
   "source": [
    "import numpy as np\n",
    "import pandas as pd\n",
    "from sentence_transformers import SentenceTransformer, util\n",
    "import os\n",
    "import matplotlib.pyplot as plt\n",
    "import io\n",
    "import csv\n",
    "\n",
    "from collections import defaultdict\n",
    "import torch\n",
    "import numpy as np\n",
    "import scipy.cluster.hierarchy as sch\n",
    "from scipy.spatial.distance import pdist\n",
    "\n",
    "from langchain_community.document_loaders import TextLoader\n",
    "from langchain.docstore.document import Document\n",
    "from langchain.text_splitter import RecursiveCharacterTextSplitter\n",
    "from langchain_experimental.graph_transformers import LLMGraphTransformer\n",
    "from langchain_experimental.llms.ollama_functions import OllamaFunctions\n",
    "from langchain_community.graphs import Neo4jGraph\n",
    "from langchain.llms import OpenAI\n",
    "from langchain.chat_models import ChatOpenAI\n",
    "\n",
    "\n",
    "\n",
    "from neo4j import GraphDatabase\n",
    "from yfiles_jupyter_graphs import GraphWidget\n",
    "\n",
    "\n",
    "from dotenv import load_dotenv\n",
    "load_dotenv()"
   ]
  },
  {
   "cell_type": "markdown",
   "metadata": {},
   "source": [
    "Prompt for making common_jobs_relationships.csv\n",
    "\n",
    "Can you make a relationship graph from this list of job titles? Please format the relationship graph so it can be easily read from a file by python. Please only use these values for the relationship graph. Please make names for the connections between job titles like translator related_to tamil teacher and provide the python code for reading the graph into neo4j\n",
    "Here are the job titles:"
   ]
  },
  {
   "cell_type": "code",
   "execution_count": 24,
   "metadata": {},
   "outputs": [
    {
     "name": "stdout",
     "output_type": "stream",
     "text": [
      "Data loaded successfully into Neo4j.\n"
     ]
    }
   ],
   "source": [
    "\n",
    "\n",
    "def load_data_to_neo4j(uri, user, password, csv_file):\n",
    "    driver = GraphDatabase.driver(uri, auth=(user, password))\n",
    "\n",
    "    with driver.session() as session:\n",
    "        # Create uniqueness constraints for JobTitle nodes with updated syntax\n",
    "        session.run(\"CREATE CONSTRAINT IF NOT EXISTS FOR (n:JobTitle) REQUIRE n.name IS UNIQUE\")\n",
    "\n",
    "        with open(csv_file, 'r', encoding='utf-8') as file:\n",
    "            reader = csv.DictReader(file)\n",
    "            for row in reader:\n",
    "                source = row['Source']\n",
    "                relationship = row['Relationship']\n",
    "                target = row['Target']\n",
    "\n",
    "                # Replace spaces with underscores and convert to uppercase for relationship types\n",
    "                rel_type = relationship.strip().replace(' ', '_').upper()\n",
    "\n",
    "                session.run(f\"\"\"\n",
    "                    MERGE (a:JobTitle {{name: $source}})\n",
    "                    MERGE (b:JobTitle {{name: $target}})\n",
    "                    MERGE (a)-[r:{rel_type}]->(b)\n",
    "                \"\"\", {'source': source, 'target': target})\n",
    "\n",
    "    driver.close()\n",
    "    print(\"Data loaded successfully into Neo4j.\")\n",
    "\n",
    "if __name__ == \"__main__\":\n",
    "    csv_file = 'data/common_jobs_relationships.csv'\n",
    "    load_data_to_neo4j(os.environ.get(\"NEO4J_URI\"), os.environ.get(\"NEO4J_USERNAME\"), os.environ.get(\"NEO4J_PASSWORD\"), csv_file)"
   ]
  },
  {
   "cell_type": "code",
   "execution_count": 25,
   "metadata": {},
   "outputs": [
    {
     "data": {
      "application/vnd.jupyter.widget-view+json": {
       "model_id": "184f30ab77b04cefb3dbf32bf04f69cb",
       "version_major": 2,
       "version_minor": 0
      },
      "text/plain": [
       "GraphWidget(layout=Layout(height='800px', width='100%'))"
      ]
     },
     "metadata": {},
     "output_type": "display_data"
    }
   ],
   "source": [
    "def show_graph():\n",
    "    uri = os.environ.get(\"NEO4J_URI\")\n",
    "    auth = (os.environ.get(\"NEO4J_USERNAME\"), os.environ.get(\"NEO4J_PASSWORD\"))\n",
    "    driver = GraphDatabase.driver(uri, auth=auth)\n",
    "    session = driver.session()\n",
    "    widget = GraphWidget(graph=session.run(\"MATCH (s) - [r:!MENTIONS] -> (t) RETURN s, r, t\").graph())\n",
    "    widget.node_label_mapping = 'id'\n",
    "    return widget\n",
    "\n",
    "show_graph()"
   ]
  },
  {
   "cell_type": "code",
   "execution_count": null,
   "metadata": {},
   "outputs": [],
   "source": []
  }
 ],
 "metadata": {
  "kernelspec": {
   "display_name": "Python 3",
   "language": "python",
   "name": "python3"
  },
  "language_info": {
   "codemirror_mode": {
    "name": "ipython",
    "version": 3
   },
   "file_extension": ".py",
   "mimetype": "text/x-python",
   "name": "python",
   "nbconvert_exporter": "python",
   "pygments_lexer": "ipython3",
   "version": "3.9.12"
  }
 },
 "nbformat": 4,
 "nbformat_minor": 2
}
