{
 "cells": [
  {
   "cell_type": "code",
   "execution_count": null,
   "metadata": {},
   "outputs": [],
   "source": [
    "%pip install --upgrade --quiet  langchain langchain-community langchain-ollama langchain-experimental neo4j tiktoken yfiles_jupyter_graphs python-dotenv json-repair langchain-openai langchain_core\n"
   ]
  },
  {
   "cell_type": "code",
   "execution_count": 15,
   "metadata": {},
   "outputs": [],
   "source": [
    "import numpy as np\n",
    "import pandas as pd\n",
    "from sentence_transformers import SentenceTransformer, util\n",
    "import os\n",
    "\n",
    "from collections import defaultdict\n",
    "import torch\n",
    "import numpy as np\n",
    "import scipy.cluster.hierarchy as sch\n",
    "from scipy.spatial.distance import pdist\n",
    "\n",
    "from langchain_community.document_loaders import TextLoader\n",
    "from langchain.docstore.document import Document\n",
    "from langchain.text_splitter import RecursiveCharacterTextSplitter\n",
    "from langchain_experimental.graph_transformers import LLMGraphTransformer\n",
    "from langchain_experimental.llms.ollama_functions import OllamaFunctions\n",
    "from langchain_community.graphs import Neo4jGraph\n",
    "\n",
    "from neo4j import GraphDatabase\n",
    "from yfiles_jupyter_graphs import GraphWidget\n",
    "\n",
    "\n",
    "\n",
    "from dotenv import load_dotenv\n",
    "\n",
    "load_dotenv()\n",
    "\n",
    "import matplotlib.pyplot as plt\n",
    "import io"
   ]
  },
  {
   "cell_type": "code",
   "execution_count": 3,
   "metadata": {},
   "outputs": [],
   "source": [
    "vrf_data_path = \"../../full_data/vrf_data.xlsx\"\n",
    "seva_data_path = \"../../full_data/seva_modified2.xlsx\"\n",
    "\n",
    "vrf_df = pd.read_excel(vrf_data_path)\n",
    "candidate_info_df = pd.read_excel(seva_data_path)"
   ]
  },
  {
   "cell_type": "code",
   "execution_count": 4,
   "metadata": {},
   "outputs": [],
   "source": [
    "vrf_jobs_df = vrf_df['/'].dropna()[:10]\n",
    "corpus_str = \" \".join(vrf_jobs_df)\n",
    "corpus_str = corpus_str.replace(\"\\n\", \" \")\n",
    "# corpus_str.count(\" \")\n"
   ]
  },
  {
   "cell_type": "code",
   "execution_count": 5,
   "metadata": {},
   "outputs": [],
   "source": [
    "docs = [Document(page_content=corpus_str)]\n",
    "\n",
    "# Step 3: Initialize the RecursiveCharacterTextSplitter\n",
    "text_splitter = RecursiveCharacterTextSplitter(chunk_size=250, chunk_overlap=24)\n",
    "\n",
    "# Step 4: Split the document\n",
    "documents = text_splitter.split_documents(documents=docs)"
   ]
  },
  {
   "cell_type": "code",
   "execution_count": 6,
   "metadata": {},
   "outputs": [
    {
     "name": "stderr",
     "output_type": "stream",
     "text": [
      "/var/folders/j6/588zcvgj0sdc9tfsz36sdcp40000gn/T/ipykernel_14215/4058995579.py:1: LangChainDeprecationWarning: The class `OllamaFunctions` was deprecated in LangChain 0.0.64 and will be removed in 1.0. An updated version of the class exists in the :class:`~langchain-ollama package and should be used instead. To use it run `pip install -U :class:`~langchain-ollama` and import as `from :class:`~langchain_ollama import ChatOllama``.\n",
      "  llm = OllamaFunctions(model=\"llama3.1\", temperature=0, format=\"json\")\n"
     ]
    }
   ],
   "source": [
    "llm = OllamaFunctions(model=\"llama3.1\", temperature=0, format=\"json\")\n",
    "\n",
    "llm_transformer = LLMGraphTransformer(llm=llm)\n",
    "\n",
    "graph_documents = llm_transformer.convert_to_graph_documents(documents)"
   ]
  },
  {
   "cell_type": "code",
   "execution_count": 9,
   "metadata": {},
   "outputs": [
    {
     "data": {
      "text/plain": [
       "[GraphDocument(nodes=[Node(id='Music Producer', type='Person', properties={}), Node(id='Arranger', type='Person', properties={}), Node(id='Content Writer', type='Person', properties={}), Node(id='Data Entry / Analysis Researcher', type='Person', properties={}), Node(id='Mixing Engineer', type='Person', properties={}), Node(id='Singers / Instrumentalists / Musicians', type='Group', properties={}), Node(id='Translator', type='Person', properties={}), Node(id='Goushala Maintenance Dining/Outside Suppport', type='Organization', properties={})], relationships=[Relationship(source=Node(id='Music Producer', type='Person', properties={}), target=Node(id='Singers / Instrumentalists / Musicians', type='Group', properties={}), type='PRODUCED', properties={}), Relationship(source=Node(id='Arranger', type='Person', properties={}), target=Node(id='Singers / Instrumentalists / Musicians', type='Group', properties={}), type='ARRANGED', properties={}), Relationship(source=Node(id='Content Writer', type='Person', properties={}), target=Node(id='Music Producer', type='Person', properties={}), type='WROTE_CONTENT_FOR', properties={}), Relationship(source=Node(id='Data Entry / Analysis Researcher', type='Person', properties={}), target=Node(id='Goushala Maintenance Dining/Outside Suppport', type='Organization', properties={}), type='WORKED_WITH', properties={}), Relationship(source=Node(id='Mixing Engineer', type='Person', properties={}), target=Node(id='Singers / Instrumentalists / Musicians', type='Group', properties={}), type='MIXED', properties={}), Relationship(source=Node(id='Translator', type='Person', properties={}), target=Node(id='Content Writer', type='Person', properties={}), type='TRANSLATED_CONTENT_FOR', properties={})], source=Document(metadata={}, page_content='Music Producer / Arranger Content writer Data Entry / Analysis Researcher Mixing Engineer Singers / Instrumentalists / Musicians Data entry Translator Goushala Maintenance Dining/Outside Suppport'))]"
      ]
     },
     "execution_count": 9,
     "metadata": {},
     "output_type": "execute_result"
    }
   ],
   "source": [
    "graph_documents"
   ]
  },
  {
   "cell_type": "code",
   "execution_count": 12,
   "metadata": {},
   "outputs": [],
   "source": [
    "graph = Neo4jGraph()\n"
   ]
  },
  {
   "cell_type": "code",
   "execution_count": null,
   "metadata": {},
   "outputs": [
    {
     "data": {
      "text/plain": [
       "[GraphDocument(nodes=[Node(id='Music Producer', type='Person', properties={}), Node(id='Arranger', type='Person', properties={}), Node(id='Content Writer', type='Person', properties={}), Node(id='Data Entry / Analysis Researcher', type='Person', properties={}), Node(id='Mixing Engineer', type='Person', properties={}), Node(id='Singers / Instrumentalists / Musicians', type='Group', properties={}), Node(id='Translator', type='Person', properties={}), Node(id='Goushala Maintenance Dining/Outside Suppport', type='Organization', properties={})], relationships=[Relationship(source=Node(id='Music Producer', type='Person', properties={}), target=Node(id='Singers / Instrumentalists / Musicians', type='Group', properties={}), type='PRODUCED', properties={}), Relationship(source=Node(id='Arranger', type='Person', properties={}), target=Node(id='Singers / Instrumentalists / Musicians', type='Group', properties={}), type='ARRANGED', properties={}), Relationship(source=Node(id='Content Writer', type='Person', properties={}), target=Node(id='Music Producer', type='Person', properties={}), type='WROTE_CONTENT_FOR', properties={}), Relationship(source=Node(id='Data Entry / Analysis Researcher', type='Person', properties={}), target=Node(id='Goushala Maintenance Dining/Outside Suppport', type='Organization', properties={}), type='WORKED_WITH', properties={}), Relationship(source=Node(id='Mixing Engineer', type='Person', properties={}), target=Node(id='Singers / Instrumentalists / Musicians', type='Group', properties={}), type='MIXED', properties={}), Relationship(source=Node(id='Translator', type='Person', properties={}), target=Node(id='Content Writer', type='Person', properties={}), type='TRANSLATED_CONTENT_FOR', properties={})], source=Document(metadata={}, page_content='Music Producer / Arranger Content writer Data Entry / Analysis Researcher Mixing Engineer Singers / Instrumentalists / Musicians Data entry Translator Goushala Maintenance Dining/Outside Suppport'))]"
      ]
     },
     "execution_count": 13,
     "metadata": {},
     "output_type": "execute_result"
    }
   ],
   "source": [
    "graph_documents"
   ]
  },
  {
   "cell_type": "code",
   "execution_count": 13,
   "metadata": {},
   "outputs": [],
   "source": [
    "graph.add_graph_documents(\n",
    "    graph_documents,\n",
    "    baseEntityLabel=True,\n",
    "    include_source=True\n",
    ")"
   ]
  },
  {
   "cell_type": "code",
   "execution_count": 19,
   "metadata": {},
   "outputs": [
    {
     "data": {
      "application/vnd.jupyter.widget-view+json": {
       "model_id": "e25d1841ced543488b7c16e10eee1842",
       "version_major": 2,
       "version_minor": 0
      },
      "text/plain": [
       "GraphWidget(layout=Layout(height='500px', width='100%'))"
      ]
     },
     "metadata": {},
     "output_type": "display_data"
    }
   ],
   "source": [
    "def show_graph():\n",
    "    uri = os.environ.get(\"NEO4J_URI\")\n",
    "    auth = (os.environ.get(\"NEO4J_USERNAME\"), os.environ.get(\"NEO4J_PASSWORD\"))\n",
    "    driver = GraphDatabase.driver(uri, auth=auth)\n",
    "    session = driver.session()\n",
    "    widget = GraphWidget(graph=session.run(\"MATCH (s) - [r:!MENTIONS] -> (t) RETURN s, r, t\").graph())\n",
    "    widget.node_label_mapping = 'id'\n",
    "    return widget\n",
    "\n",
    "show_graph()"
   ]
  },
  {
   "cell_type": "code",
   "execution_count": 18,
   "metadata": {},
   "outputs": [
    {
     "name": "stdout",
     "output_type": "stream",
     "text": [
      "bolt://localhost:7687\n",
      "neo4j\n",
      "your_password\n"
     ]
    }
   ],
   "source": [
    "print(os.environ.get(\"NEO4J_URI\"))\n",
    "print(os.environ.get(\"NEO4J_USERNAME\"))\n",
    "print(os.environ.get(\"NEO4J_PASSWORD\"))"
   ]
  },
  {
   "cell_type": "code",
   "execution_count": null,
   "metadata": {},
   "outputs": [],
   "source": []
  }
 ],
 "metadata": {
  "kernelspec": {
   "display_name": "Python 3",
   "language": "python",
   "name": "python3"
  },
  "language_info": {
   "codemirror_mode": {
    "name": "ipython",
    "version": 3
   },
   "file_extension": ".py",
   "mimetype": "text/x-python",
   "name": "python",
   "nbconvert_exporter": "python",
   "pygments_lexer": "ipython3",
   "version": "3.9.12"
  }
 },
 "nbformat": 4,
 "nbformat_minor": 2
}
