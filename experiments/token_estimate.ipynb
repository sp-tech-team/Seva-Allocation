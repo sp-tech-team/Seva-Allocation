{
 "cells": [
  {
   "cell_type": "code",
   "execution_count": 1,
   "metadata": {},
   "outputs": [
    {
     "name": "stderr",
     "output_type": "stream",
     "text": [
      "/usr/local/lib/python3.9/site-packages/sentence_transformers/cross_encoder/CrossEncoder.py:11: TqdmExperimentalWarning: Using `tqdm.autonotebook.tqdm` in notebook mode. Use `tqdm.tqdm` instead to force console mode (e.g. in jupyter console)\n",
      "  from tqdm.autonotebook import tqdm, trange\n"
     ]
    }
   ],
   "source": [
    "import numpy as np\n",
    "import pandas as pd\n",
    "from sentence_transformers import SentenceTransformer, util\n",
    "\n",
    "from collections import defaultdict\n",
    "import torch\n",
    "import numpy as np\n",
    "import scipy.cluster.hierarchy as sch\n",
    "from scipy.spatial.distance import pdist\n",
    "\n",
    "import matplotlib.pyplot as plt"
   ]
  },
  {
   "cell_type": "code",
   "execution_count": 3,
   "metadata": {},
   "outputs": [],
   "source": [
    "vrf_data_path = \"../full_data/vrf_data.xlsx\"\n",
    "seva_data_path = \"../full_data/seva_modified2.xlsx\"\n",
    "\n",
    "vrf_df = pd.read_excel(vrf_data_path)\n",
    "candidate_info_df = pd.read_excel(seva_data_path)"
   ]
  },
  {
   "cell_type": "code",
   "execution_count": 25,
   "metadata": {},
   "outputs": [],
   "source": [
    "vrf_jobs_df = vrf_df['/']\n",
    "skills_jobs_df_arr = [\n",
    "  #      candidate_info_df['Work Experience/Designation'].dropna(),\n",
    "        candidate_info_df['Any Additional Skills'].dropna(),\n",
    "        candidate_info_df['Computer Skills'].dropna(),\n",
    "        candidate_info_df['Skills'].dropna(),\n",
    "        candidate_info_df['Skills.1'].dropna(),\n",
    "      #  vrf_jobs_df.dropna()\n",
    "        ]\n",
    "\n",
    "stacked_skills_and_jobs = pd.concat(skills_jobs_df_arr, axis=0).reset_index(drop=True)"
   ]
  },
  {
   "cell_type": "code",
   "execution_count": 26,
   "metadata": {},
   "outputs": [
    {
     "data": {
      "text/plain": [
       "32048"
      ]
     },
     "execution_count": 26,
     "metadata": {},
     "output_type": "execute_result"
    }
   ],
   "source": [
    "combined_str = \" \".join(stacked_skills_and_jobs)\n",
    "combined_str = combined_str.replace(\"\\n\", \" \")\n",
    "combined_str.count(\" \")"
   ]
  },
  {
   "cell_type": "code",
   "execution_count": 24,
   "metadata": {},
   "outputs": [
    {
     "data": {
      "text/plain": [
       "3250"
      ]
     },
     "execution_count": 24,
     "metadata": {},
     "output_type": "execute_result"
    }
   ],
   "source": [
    "\" \".join(candidate_info_df['Any Additional Skills'].dropna()).replace(\"\\n\", \" \").count(\" \")"
   ]
  },
  {
   "cell_type": "code",
   "execution_count": null,
   "metadata": {},
   "outputs": [],
   "source": []
  }
 ],
 "metadata": {
  "kernelspec": {
   "display_name": "Python 3",
   "language": "python",
   "name": "python3"
  },
  "language_info": {
   "codemirror_mode": {
    "name": "ipython",
    "version": 3
   },
   "file_extension": ".py",
   "mimetype": "text/x-python",
   "name": "python",
   "nbconvert_exporter": "python",
   "pygments_lexer": "ipython3",
   "version": "3.9.12"
  }
 },
 "nbformat": 4,
 "nbformat_minor": 2
}
