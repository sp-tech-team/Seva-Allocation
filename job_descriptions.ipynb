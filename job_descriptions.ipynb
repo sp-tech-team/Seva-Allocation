{
 "cells": [
  {
   "cell_type": "code",
   "execution_count": 1,
   "metadata": {},
   "outputs": [],
   "source": [
    "import pandas as pd"
   ]
  },
  {
   "cell_type": "code",
   "execution_count": 6,
   "metadata": {},
   "outputs": [],
   "source": [
    "vrf_data_path = \"toy_data/TOY_vrf_data2024.xlsx\"\n",
    "jobs_info_df = pd.read_excel(vrf_data_path).dropna(subset=[\"/\"])\n",
    "\n",
    "jobs_df = jobs_info_df['/']"
   ]
  },
  {
   "cell_type": "code",
   "execution_count": 7,
   "metadata": {},
   "outputs": [
    {
     "data": {
      "text/plain": [
       "0                            Arabic Translator\n",
       "1                                  Translators\n",
       "2                            French Translator\n",
       "3                               Dining Support\n",
       "4      Administrative Activities (Back Office)\n",
       "                        ...                   \n",
       "283             Finance & Accounting Executive\n",
       "284                                 Accountant\n",
       "285             Finance & Accounting Executive\n",
       "286             Finance & Accounting Executive\n",
       "287                                 Accountant\n",
       "Name: /, Length: 288, dtype: object"
      ]
     },
     "execution_count": 7,
     "metadata": {},
     "output_type": "execute_result"
    }
   ],
   "source": [
    "jobs_df"
   ]
  },
  {
   "cell_type": "code",
   "execution_count": null,
   "metadata": {},
   "outputs": [],
   "source": []
  }
 ],
 "metadata": {
  "kernelspec": {
   "display_name": "Python 3",
   "language": "python",
   "name": "python3"
  },
  "language_info": {
   "codemirror_mode": {
    "name": "ipython",
    "version": 3
   },
   "file_extension": ".py",
   "mimetype": "text/x-python",
   "name": "python",
   "nbconvert_exporter": "python",
   "pygments_lexer": "ipython3",
   "version": "3.9.12"
  }
 },
 "nbformat": 4,
 "nbformat_minor": 2
}
